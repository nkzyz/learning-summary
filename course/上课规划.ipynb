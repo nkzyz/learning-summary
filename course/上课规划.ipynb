{
 "cells": [
  {
   "cell_type": "markdown",
   "id": "69ba7090",
   "metadata": {},
   "source": [
    "1 目的     \n",
    "能掌握机器学习全流程，包括，数据处理和准备，模型选择和设计，模型训练和优化，部署和测试，监控和维护。"
   ]
  },
  {
   "cell_type": "markdown",
   "id": "0416556b",
   "metadata": {},
   "source": [
    "2 上课学习方法  \n",
    "1）每天上完至少3-4节课。   \n",
    "2）看课件一般比上课理解得更清楚，尤其是对技术应用的演示。      \n",
    "3）看完每个小部分，把学到的方法思路总结到自己的工作思路里。（比如说机器学习项目的流程）    \n",
    "----- 对于技术实际使用示例，重点关注步骤和分析理解原因。如果自己之前做过类似的，则和自己之前的经验做对比。     \n",
    "----- 对于技术本身的理解(技术是什么，技术的优点是什么，实际实现思路是什么 不是具体实现细节。 大致理解每一步的作用和大概逻辑，至于步骤的可行性不做要求)。    \n",
    "如果是数学概念和推导，并且课程讲解达到了理解的深度，理解学习完后，把自己的理解记录在 技术使用示例附近。    \n",
    "----- 其他的部分，先判断大致内容和对使用的影响，再决定要不要读和细读。关注并总结记录能使用起来的技术。    \n",
    "4）作业部分，有选择地做。(作业是一定要做的，可以先看一下都有哪些问题，再选择几个   \n",
    "5）展示事例如何选择      \n",
    "用一个项目事例展示学到的技能。    \n",
    "通过做项目 和学习其他参考资料，一般能对技术和在实际问题上的具体使用方法有更全面的了解。      \n",
    "6) 做题 或者做项目如果遇到不会处理的情况，   \n",
    "搜索相关课程或网络资料，学习别人的类似做法。对于找到的每一小部分资料 分析总结完。回顾自己的问题 如果掌握了分析解决的每个步骤和思路 就算完成了学习目标。   \n"
   ]
  },
  {
   "cell_type": "markdown",
   "id": "55bde2de",
   "metadata": {},
   "source": [
    "3 任务进度控制和截止时间   \n",
    "每两周完成一个课程，汇报展示事例 和总结的工作思路。"
   ]
  },
  {
   "cell_type": "code",
   "execution_count": null,
   "id": "25aaed76",
   "metadata": {},
   "outputs": [],
   "source": []
  }
 ],
 "metadata": {
  "kernelspec": {
   "display_name": "Python [conda env:YaoClass] *",
   "language": "python",
   "name": "conda-env-YaoClass-py"
  },
  "language_info": {
   "codemirror_mode": {
    "name": "ipython",
    "version": 3
   },
   "file_extension": ".py",
   "mimetype": "text/x-python",
   "name": "python",
   "nbconvert_exporter": "python",
   "pygments_lexer": "ipython3",
   "version": "3.9.13"
  }
 },
 "nbformat": 4,
 "nbformat_minor": 5
}
